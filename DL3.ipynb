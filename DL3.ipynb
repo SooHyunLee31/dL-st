{
  "nbformat": 4,
  "nbformat_minor": 0,
  "metadata": {
    "colab": {
      "provenance": [],
      "gpuType": "T4",
      "authorship_tag": "ABX9TyN2aWhEhMydqdSs0LxUrOMb"
    },
    "kernelspec": {
      "name": "python3",
      "display_name": "Python 3"
    },
    "language_info": {
      "name": "python"
    },
    "accelerator": "GPU"
  },
  "cells": [
    {
      "cell_type": "markdown",
      "source": [
        "순환 신경망으로 IMDB 리뷰 분류하기"
      ],
      "metadata": {
        "id": "gEepKv1TlFic"
      }
    },
    {
      "cell_type": "code",
      "execution_count": 3,
      "metadata": {
        "id": "EHq82C4sbNcr"
      },
      "outputs": [],
      "source": [
        " from tensorflow.keras.datasets import imdb\n",
        " (train_input, train_target), (test_input, test_target) = imdb.load_data(num_words=500)"
      ]
    },
    {
      "cell_type": "code",
      "source": [
        "# 훈련 데이터 개수\n",
        "print(train_input.shape, test_input.shape)\n",
        "\n",
        "# 첫 번째 훈련 데이터 토큰 수\n",
        "print(len(train_input[0]))\n",
        "\n",
        "# 첫 번째 훈련 데이터\n",
        "print(train_input[0])\n",
        "\n",
        "# 앞선 20개의 훈련 데이터 정답지 (0은 부정, 1은 긍정)\n",
        "print(train_target[0:20])"
      ],
      "metadata": {
        "colab": {
          "base_uri": "https://localhost:8080/"
        },
        "id": "EuXUSnxQm2so",
        "outputId": "c41f0dd1-64d9-47fb-880d-3a96ff87090c"
      },
      "execution_count": null,
      "outputs": [
        {
          "output_type": "stream",
          "name": "stdout",
          "text": [
            "(25000,) (25000,)\n",
            "218\n",
            "[1, 14, 22, 16, 43, 2, 2, 2, 2, 65, 458, 2, 66, 2, 4, 173, 36, 256, 5, 25, 100, 43, 2, 112, 50, 2, 2, 9, 35, 480, 284, 5, 150, 4, 172, 112, 167, 2, 336, 385, 39, 4, 172, 2, 2, 17, 2, 38, 13, 447, 4, 192, 50, 16, 6, 147, 2, 19, 14, 22, 4, 2, 2, 469, 4, 22, 71, 87, 12, 16, 43, 2, 38, 76, 15, 13, 2, 4, 22, 17, 2, 17, 12, 16, 2, 18, 2, 5, 62, 386, 12, 8, 316, 8, 106, 5, 4, 2, 2, 16, 480, 66, 2, 33, 4, 130, 12, 16, 38, 2, 5, 25, 124, 51, 36, 135, 48, 25, 2, 33, 6, 22, 12, 215, 28, 77, 52, 5, 14, 407, 16, 82, 2, 8, 4, 107, 117, 2, 15, 256, 4, 2, 7, 2, 5, 2, 36, 71, 43, 2, 476, 26, 400, 317, 46, 7, 4, 2, 2, 13, 104, 88, 4, 381, 15, 297, 98, 32, 2, 56, 26, 141, 6, 194, 2, 18, 4, 226, 22, 21, 134, 476, 26, 480, 5, 144, 30, 2, 18, 51, 36, 28, 224, 92, 25, 104, 4, 226, 65, 16, 38, 2, 88, 12, 16, 283, 5, 16, 2, 113, 103, 32, 15, 16, 2, 19, 178, 32]\n",
            "[1 0 0 1 0 0 1 0 1 0 1 0 0 0 0 0 1 1 0 1]\n"
          ]
        }
      ]
    },
    {
      "cell_type": "code",
      "source": [
        "# 훈련 세트, 검증 세트 분할\n",
        "from sklearn.model_selection import train_test_split\n",
        "train_input, val_input, train_target, val_target = train_test_split(train_input, train_target, test_size=0.2, random_state=42)"
      ],
      "metadata": {
        "id": "2K5P0owmnDqc"
      },
      "execution_count": 4,
      "outputs": []
    },
    {
      "cell_type": "code",
      "source": [
        "# 문장에 포함된 단어 개수 평균과 중간값\n",
        "import numpy as np\n",
        "lengths = np.array([len(x) for x in train_input])\n",
        "print(np.mean(lengths), np.median(lengths))\n",
        "\n",
        "import matplotlib.pyplot as plt\n",
        "plt.hist(lengths)\n",
        "plt.xlabel('length')\n",
        "plt.ylabel('frequency')\n",
        "plt.show()"
      ],
      "metadata": {
        "colab": {
          "base_uri": "https://localhost:8080/",
          "height": 467
        },
        "id": "qfd2RGH1ol2U",
        "outputId": "b3207b9d-d2bc-4ec1-db09-4a0f33eea530"
      },
      "execution_count": null,
      "outputs": [
        {
          "output_type": "stream",
          "name": "stdout",
          "text": [
            "239.00925 178.0\n"
          ]
        },
        {
          "output_type": "display_data",
          "data": {
            "text/plain": [
              "<Figure size 640x480 with 1 Axes>"
            ],
            "image/png": "[encoded data removed]"
          },
          "metadata": {}
        }
      ]
    },
    {
      "cell_type": "code",
      "source": [
        "# 단어 개수 100개로 통합\n",
        "from tensorflow.keras.preprocessing.sequence import pad_sequences\n",
        "train_seq = pad_sequences(train_input, maxlen=100)\n",
        "print(train_seq.shape)\n",
        "print(train_seq[0])\n",
        "val_seq = pad_sequences(val_input, maxlen=100)"
      ],
      "metadata": {
        "colab": {
          "base_uri": "https://localhost:8080/"
        },
        "id": "FUo0qAkdpA6E",
        "outputId": "0fb6ef3a-c11c-41d8-ac8a-944c90497714"
      },
      "execution_count": 5,
      "outputs": [
        {
          "output_type": "stream",
          "name": "stdout",
          "text": [
            "(20000, 100)\n",
            "[ 10   4  20   9   2 364 352   5  45   6   2   2  33 269   8   2 142   2\n",
            "   5   2  17  73  17 204   5   2  19  55   2   2  92  66 104  14  20  93\n",
            "  76   2 151  33   4  58  12 188   2 151  12 215  69 224 142  73 237   6\n",
            "   2   7   2   2 188   2 103  14  31  10  10 451   7   2   5   2  80  91\n",
            "   2  30   2  34  14  20 151  50  26 131  49   2  84  46  50  37  80  79\n",
            "   6   2  46   7  14  20  10  10 470 158]\n"
          ]
        }
      ]
    },
    {
      "cell_type": "code",
      "source": [
        "# 순환 신경망 생성\n",
        "from tensorflow import keras\n",
        "model = keras.Sequential()\n",
        "model.add(keras.layers.SimpleRNN(8, input_shape=(100, 500)))\n",
        "model.add(keras.layers.Dense(1, activation='sigmoid'))"
      ],
      "metadata": {
        "id": "i_z2x-2eqB3j"
      },
      "execution_count": null,
      "outputs": []
    },
    {
      "cell_type": "code",
      "source": [
        "# 원-핫 인코딩\n",
        "train_oh = keras.utils.to_categorical(train_seq)\n",
        "val_oh = keras.utils.to_categorical(val_seq)\n",
        "print(train_oh.shape)"
      ],
      "metadata": {
        "colab": {
          "base_uri": "https://localhost:8080/"
        },
        "id": "cm8Qms7orjmA",
        "outputId": "29434cfe-1b71-4e59-aaa9-c2fa331276ac"
      },
      "execution_count": null,
      "outputs": [
        {
          "output_type": "stream",
          "name": "stdout",
          "text": [
            "(20000, 100, 500)\n"
          ]
        }
      ]
    },
    {
      "cell_type": "code",
      "source": [
        "model.summary()"
      ],
      "metadata": {
        "colab": {
          "base_uri": "https://localhost:8080/"
        },
        "id": "q6zH9x0VstaQ",
        "outputId": "74317570-d9df-4ceb-e6b0-70d43c384061"
      },
      "execution_count": null,
      "outputs": [
        {
          "output_type": "stream",
          "name": "stdout",
          "text": [
            "Model: \"sequential\"\n",
            "_________________________________________________________________\n",
            " Layer (type)                Output Shape              Param #   \n",
            "=================================================================\n",
            " simple_rnn (SimpleRNN)      (None, 8)                 4072      \n",
            "                                                                 \n",
            " dense (Dense)               (None, 1)                 9         \n",
            "                                                                 \n",
            "=================================================================\n",
            "Total params: 4,081\n",
            "Trainable params: 4,081\n",
            "Non-trainable params: 0\n",
            "_________________________________________________________________\n"
          ]
        }
      ]
    },
    {
      "cell_type": "code",
      "source": [
        "# 순환 신경망 훈련\n",
        "rmsprop = keras.optimizers.RMSprop(learning_rate=1e-4)\n",
        "model.compile(optimizer=rmsprop, loss='binary_crossentropy', metrics=['accuracy'])\n",
        "checkpoint_cb = keras.callbacks.ModelCheckpoint('best-simplernn-model.h5', save_best_only=True)\n",
        "early_stopping_cb = keras.callbacks.EarlyStopping(patience=3, restore_best_weights=True)\n",
        "history = model.fit(train_oh, train_target, epochs=100, batch_size=64, validation_data=(val_oh, val_target), callbacks=[checkpoint_cb, early_stopping_cb])"
      ],
      "metadata": {
        "colab": {
          "base_uri": "https://localhost:8080/"
        },
        "id": "R-OIH22MtUnV",
        "outputId": "f02bf3fa-0812-483d-e7d1-fe9c0581f61e"
      },
      "execution_count": null,
      "outputs": [
        {
          "output_type": "stream",
          "name": "stdout",
          "text": [
            "Epoch 1/100\n",
            "313/313 [==============================] - ETA: 0s - loss: 0.6986 - accuracy: 0.5010"
          ]
        }
      ]
    },
    {
      "cell_type": "code",
      "source": [
        "# 단어 임베딩\n",
        "from tensorflow import keras\n",
        "model2 = keras.Sequential()\n",
        "model2.add(keras.layers.Embedding(500, 16, input_length=100))\n",
        "model2.add(keras.layers.SimpleRNN(8))\n",
        "model2.add(keras.layers.Dense(1, activation='sigmoid'))"
      ],
      "metadata": {
        "id": "CXun5qt8vfwU"
      },
      "execution_count": 7,
      "outputs": []
    },
    {
      "cell_type": "code",
      "source": [
        "model2.summary()"
      ],
      "metadata": {
        "colab": {
          "base_uri": "https://localhost:8080/"
        },
        "id": "TVPTTGyZyfxW",
        "outputId": "fb0992d9-533d-4880-ccff-e389c61b0941"
      },
      "execution_count": 8,
      "outputs": [
        {
          "output_type": "stream",
          "name": "stdout",
          "text": [
            "Model: \"sequential\"\n",
            "_________________________________________________________________\n",
            " Layer (type)                Output Shape              Param #   \n",
            "=================================================================\n",
            " embedding (Embedding)       (None, 100, 16)           8000      \n",
            "                                                                 \n",
            " simple_rnn (SimpleRNN)      (None, 8)                 200       \n",
            "                                                                 \n",
            " dense (Dense)               (None, 1)                 9         \n",
            "                                                                 \n",
            "=================================================================\n",
            "Total params: 8,209\n",
            "Trainable params: 8,209\n",
            "Non-trainable params: 0\n",
            "_________________________________________________________________\n"
          ]
        }
      ]
    },
    {
      "cell_type": "code",
      "source": [
        "# 임베딩 모델 학습\n",
        "rmsprop = keras.optimizers.RMSprop(learning_rate=1e-4)\n",
        "model2.compile(optimizer=rmsprop, loss='binary_crossentropy', metrics=['accuracy'])\n",
        "checkpoint_cb = keras.callbacks.ModelCheckpoint('best-embedding-model.h5', save_best_only=True)\n",
        "early_stopping_cb = keras.callbacks.EarlyStopping(patience=3, restore_best_weights=True)\n",
        "history = model2.fit(train_seq, train_target, epochs=50, batch_size=64, validation_data=(val_seq, val_target), callbacks=[checkpoint_cb, early_stopping_cb])"
      ],
      "metadata": {
        "colab": {
          "base_uri": "https://localhost:8080/"
        },
        "id": "NA4q9ZhHy-qT",
        "outputId": "c65923e7-d4dd-47b8-fc43-a698629b5269"
      },
      "execution_count": 12,
      "outputs": [
        {
          "output_type": "stream",
          "name": "stdout",
          "text": [
            "Epoch 1/50\n",
            "313/313 [==============================] - 46s 128ms/step - loss: 0.6923 - accuracy: 0.5199 - val_loss: 0.6894 - val_accuracy: 0.5590\n",
            "Epoch 2/50\n",
            "313/313 [==============================] - 37s 119ms/step - loss: 0.6838 - accuracy: 0.6000 - val_loss: 0.6782 - val_accuracy: 0.6238\n",
            "Epoch 3/50\n",
            "313/313 [==============================] - 37s 119ms/step - loss: 0.6680 - accuracy: 0.6564 - val_loss: 0.6606 - val_accuracy: 0.6664\n",
            "Epoch 4/50\n",
            "313/313 [==============================] - 37s 118ms/step - loss: 0.6477 - accuracy: 0.6955 - val_loss: 0.6414 - val_accuracy: 0.6966\n",
            "Epoch 5/50\n",
            "313/313 [==============================] - 36s 116ms/step - loss: 0.6268 - accuracy: 0.7229 - val_loss: 0.6206 - val_accuracy: 0.7272\n",
            "Epoch 6/50\n",
            "313/313 [==============================] - 35s 113ms/step - loss: 0.6064 - accuracy: 0.7394 - val_loss: 0.6029 - val_accuracy: 0.7330\n",
            "Epoch 7/50\n",
            "313/313 [==============================] - 35s 112ms/step - loss: 0.5869 - accuracy: 0.7524 - val_loss: 0.5853 - val_accuracy: 0.7432\n",
            "Epoch 8/50\n",
            "313/313 [==============================] - 36s 115ms/step - loss: 0.5684 - accuracy: 0.7641 - val_loss: 0.5687 - val_accuracy: 0.7434\n",
            "Epoch 9/50\n",
            "313/313 [==============================] - 36s 115ms/step - loss: 0.5480 - accuracy: 0.7756 - val_loss: 0.5492 - val_accuracy: 0.7604\n",
            "Epoch 10/50\n",
            "313/313 [==============================] - 36s 115ms/step - loss: 0.5272 - accuracy: 0.7824 - val_loss: 0.5261 - val_accuracy: 0.7802\n",
            "Epoch 11/50\n",
            "313/313 [==============================] - 36s 116ms/step - loss: 0.5061 - accuracy: 0.7904 - val_loss: 0.5128 - val_accuracy: 0.7772\n",
            "Epoch 12/50\n",
            "313/313 [==============================] - 36s 114ms/step - loss: 0.4911 - accuracy: 0.7952 - val_loss: 0.4983 - val_accuracy: 0.7822\n",
            "Epoch 13/50\n",
            "313/313 [==============================] - 37s 117ms/step - loss: 0.4773 - accuracy: 0.8004 - val_loss: 0.4916 - val_accuracy: 0.7820\n",
            "Epoch 14/50\n",
            "313/313 [==============================] - 36s 115ms/step - loss: 0.4681 - accuracy: 0.8047 - val_loss: 0.4842 - val_accuracy: 0.7778\n",
            "Epoch 15/50\n",
            "313/313 [==============================] - 49s 158ms/step - loss: 0.4584 - accuracy: 0.8061 - val_loss: 0.4781 - val_accuracy: 0.7824\n",
            "Epoch 16/50\n",
            "313/313 [==============================] - 48s 153ms/step - loss: 0.4502 - accuracy: 0.8094 - val_loss: 0.4741 - val_accuracy: 0.7870\n",
            "Epoch 17/50\n",
            "313/313 [==============================] - 37s 117ms/step - loss: 0.4437 - accuracy: 0.8116 - val_loss: 0.4770 - val_accuracy: 0.7788\n",
            "Epoch 18/50\n",
            "313/313 [==============================] - 37s 117ms/step - loss: 0.4378 - accuracy: 0.8123 - val_loss: 0.4654 - val_accuracy: 0.7852\n",
            "Epoch 19/50\n",
            "313/313 [==============================] - 37s 119ms/step - loss: 0.4325 - accuracy: 0.8141 - val_loss: 0.4699 - val_accuracy: 0.7798\n",
            "Epoch 20/50\n",
            "313/313 [==============================] - 37s 117ms/step - loss: 0.4280 - accuracy: 0.8153 - val_loss: 0.4613 - val_accuracy: 0.7858\n",
            "Epoch 21/50\n",
            "313/313 [==============================] - 37s 118ms/step - loss: 0.4248 - accuracy: 0.8167 - val_loss: 0.4626 - val_accuracy: 0.7858\n",
            "Epoch 22/50\n",
            "313/313 [==============================] - 35s 113ms/step - loss: 0.4208 - accuracy: 0.8197 - val_loss: 0.4689 - val_accuracy: 0.7848\n",
            "Epoch 23/50\n",
            "313/313 [==============================] - 35s 113ms/step - loss: 0.4173 - accuracy: 0.8213 - val_loss: 0.4597 - val_accuracy: 0.7892\n",
            "Epoch 24/50\n",
            "313/313 [==============================] - 37s 118ms/step - loss: 0.4156 - accuracy: 0.8224 - val_loss: 0.4583 - val_accuracy: 0.7904\n",
            "Epoch 25/50\n",
            "313/313 [==============================] - 35s 112ms/step - loss: 0.4126 - accuracy: 0.8249 - val_loss: 0.4701 - val_accuracy: 0.7844\n",
            "Epoch 26/50\n",
            "313/313 [==============================] - 36s 114ms/step - loss: 0.4096 - accuracy: 0.8252 - val_loss: 0.4574 - val_accuracy: 0.7912\n",
            "Epoch 27/50\n",
            "313/313 [==============================] - 35s 111ms/step - loss: 0.4070 - accuracy: 0.8265 - val_loss: 0.4600 - val_accuracy: 0.7902\n",
            "Epoch 28/50\n",
            "313/313 [==============================] - 36s 115ms/step - loss: 0.4055 - accuracy: 0.8281 - val_loss: 0.4566 - val_accuracy: 0.7894\n",
            "Epoch 29/50\n",
            "313/313 [==============================] - 36s 114ms/step - loss: 0.4035 - accuracy: 0.8288 - val_loss: 0.4568 - val_accuracy: 0.7890\n",
            "Epoch 30/50\n",
            "313/313 [==============================] - 36s 114ms/step - loss: 0.4010 - accuracy: 0.8292 - val_loss: 0.4587 - val_accuracy: 0.7922\n",
            "Epoch 31/50\n",
            "313/313 [==============================] - 36s 115ms/step - loss: 0.4000 - accuracy: 0.8309 - val_loss: 0.4593 - val_accuracy: 0.7890\n"
          ]
        }
      ]
    },
    {
      "cell_type": "code",
      "source": [
        "# 손실 그래프\n",
        "import matplotlib.pyplot as plt\n",
        "plt.plot(history.history['loss'])\n",
        "plt.plot(history.history['val_loss'])\n",
        "plt.xlabel('epoch')\n",
        "plt.ylabel('loss')\n",
        "plt.legend(['train', 'val'])\n",
        "plt.show()"
      ],
      "metadata": {
        "colab": {
          "base_uri": "https://localhost:8080/",
          "height": 449
        },
        "id": "7MNJjjfKzXk-",
        "outputId": "131dbb25-0bff-4830-f2f0-b689d32230b8"
      },
      "execution_count": 13,
      "outputs": [
        {
          "output_type": "display_data",
          "data": {
            "text/plain": [
              "<Figure size 640x480 with 1 Axes>"
            ],
            "image/png": "[encoded data removed]"
          },
          "metadata": {}
        }
      ]
    }
  ]
}